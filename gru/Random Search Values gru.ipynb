{
 "cells": [
  {
   "cell_type": "markdown",
   "metadata": {},
   "source": [
    "## Generate random values for hyper-paramter tuning"
   ]
  },
  {
   "cell_type": "code",
   "execution_count": 13,
   "metadata": {
    "collapsed": true
   },
   "outputs": [],
   "source": [
    "import numpy as np\n",
    "from numpy import random"
   ]
  },
  {
   "cell_type": "markdown",
   "metadata": {},
   "source": [
    "From http://mfile.narotama.ac.id/files/Umum/Jurnal%20MIT/Random%20search%20for%20hyper-parameter%20optimization.pdf:\n",
    "\n",
    "\"We will use the phrase drawn geometrically from A to B for 0 < A < B to mean drawing uniformly in the log domain\n",
    "between log(A) and log(B), exponentiating to get a number between A and B, and then rounding to the nearest integer.\n",
    "The phrase drawn exponentially means the same thing but without rounding.\""
   ]
  },
  {
   "cell_type": "markdown",
   "metadata": {},
   "source": [
    "#### Hidden Size"
   ]
  },
  {
   "cell_type": "code",
   "execution_count": 29,
   "metadata": {},
   "outputs": [
    {
     "data": {
      "text/plain": [
       "array([ 477.,  345.,   67.])"
      ]
     },
     "execution_count": 29,
     "metadata": {},
     "output_type": "execute_result"
    }
   ],
   "source": [
    "A = 18\n",
    "B = 1024\n",
    "hidden_sizes = np.round(np.exp(random.uniform(np.log(A),np.log(B),3)))\n",
    "hidden_sizes"
   ]
  },
  {
   "cell_type": "markdown",
   "metadata": {},
   "source": [
    "#### Weight Decay"
   ]
  },
  {
   "cell_type": "code",
   "execution_count": 39,
   "metadata": {},
   "outputs": [
    {
     "data": {
      "text/plain": [
       "array([ 0.00080853,  0.00029232,  0.00317727])"
      ]
     },
     "execution_count": 39,
     "metadata": {},
     "output_type": "execute_result"
    }
   ],
   "source": [
    "A = 5.0e-5\n",
    "B = 5.0e-3\n",
    "decay_weights = np.exp(random.uniform(np.log(A),np.log(B),3))\n",
    "decay_weights"
   ]
  },
  {
   "cell_type": "markdown",
   "metadata": {},
   "source": [
    "#### Learning Rate"
   ]
  },
  {
   "cell_type": "code",
   "execution_count": 38,
   "metadata": {},
   "outputs": [
    {
     "data": {
      "text/plain": [
       "array([ 0.00105849,  0.00010868,  0.00030144])"
      ]
     },
     "execution_count": 38,
     "metadata": {},
     "output_type": "execute_result"
    }
   ],
   "source": [
    "A = 5e-5\n",
    "B = 5e-3\n",
    "learning_rates = np.exp(random.uniform(np.log(A),np.log(B),3))\n",
    "learning_rates"
   ]
  },
  {
   "cell_type": "markdown",
   "metadata": {},
   "source": [
    "#### Dropout"
   ]
  },
  {
   "cell_type": "code",
   "execution_count": 44,
   "metadata": {},
   "outputs": [
    {
     "data": {
      "text/plain": [
       "array([ 0.07051246,  0.15142926,  0.0594544 ])"
      ]
     },
     "execution_count": 44,
     "metadata": {},
     "output_type": "execute_result"
    }
   ],
   "source": [
    "A = .01\n",
    "B = 0.3\n",
    "dropouts = np.exp(random.uniform(np.log(A),np.log(B),3))\n",
    "dropouts"
   ]
  },
  {
   "cell_type": "code",
   "execution_count": 45,
   "metadata": {},
   "outputs": [
    {
     "name": "stdout",
     "output_type": "stream",
     "text": [
      "Hidden size: [ 477.  345.   67.] \n",
      "Decay Weights: [ 0.00080853  0.00029232  0.00317727] \n",
      "Learning Rates: [ 0.00105849  0.00010868  0.00030144] \n",
      "Dropout: [ 0.07051246  0.15142926  0.0594544 ]\n"
     ]
    }
   ],
   "source": [
    "print('Hidden size:',hidden_sizes,'\\nDecay Weights:',decay_weights,\\\n",
    "      '\\nLearning Rates:',learning_rates,'\\nDropout:',dropouts)"
   ]
  }
 ],
 "metadata": {
  "kernelspec": {
   "display_name": "Python 3",
   "language": "python",
   "name": "python3"
  },
  "language_info": {
   "codemirror_mode": {
    "name": "ipython",
    "version": 3
   },
   "file_extension": ".py",
   "mimetype": "text/x-python",
   "name": "python",
   "nbconvert_exporter": "python",
   "pygments_lexer": "ipython3",
   "version": "3.6.2"
  }
 },
 "nbformat": 4,
 "nbformat_minor": 2
}

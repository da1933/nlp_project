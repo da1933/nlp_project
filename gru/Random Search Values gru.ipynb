{
 "cells": [
  {
   "cell_type": "markdown",
   "metadata": {},
   "source": [
    "## Generate random values for hyper-paramter tuning"
   ]
  },
  {
   "cell_type": "code",
   "execution_count": 34,
   "metadata": {},
   "outputs": [],
   "source": [
    "import numpy as np\n",
    "from numpy import random\n",
    "import pandas as pd\n",
    "np.random.seed(10)"
   ]
  },
  {
   "cell_type": "markdown",
   "metadata": {},
   "source": [
    "From http://mfile.narotama.ac.id/files/Umum/Jurnal%20MIT/Random%20search%20for%20hyper-parameter%20optimization.pdf:\n",
    "\n",
    "\"We will use the phrase drawn geometrically from A to B for 0 < A < B to mean drawing uniformly in the log domain\n",
    "between log(A) and log(B), exponentiating to get a number between A and B, and then rounding to the nearest integer.\n",
    "The phrase drawn exponentially means the same thing but without rounding.\""
   ]
  },
  {
   "cell_type": "code",
   "execution_count": 61,
   "metadata": {
    "collapsed": true
   },
   "outputs": [],
   "source": [
    "def get_rand_params(n, h_a,h_b, w_a,w_b,l_a,l_b,d_a,d_b, seed=100):\n",
    "    \n",
    "    np.random.seed(seed)\n",
    "    params = pd.DataFrame(columns=['hidden_size','decay_weights','learning_rates','dropout'])\n",
    "    params['hidden_size'] = np.round(np.exp(random.uniform(np.log(h_a),np.log(h_b),n)))\n",
    "    params['decay_weights'] = np.exp(random.uniform(np.log(w_a),np.log(w_b),n))\n",
    "    params['learning_rates'] = np.exp(random.uniform(np.log(l_a),np.log(l_b),n))\n",
    "    params['dropout'] = np.exp(random.uniform(np.log(d_a),np.log(d_b),n))\n",
    "    return params\n",
    "#hidden size"
   ]
  },
  {
   "cell_type": "code",
   "execution_count": 62,
   "metadata": {},
   "outputs": [],
   "source": [
    "tuning_params = get_rand_params(12, 50,500, 5.0e-5,5.0e-3,5.0e-5,5.0e-3,.01,.3)"
   ]
  },
  {
   "cell_type": "code",
   "execution_count": 63,
   "metadata": {},
   "outputs": [
    {
     "data": {
      "text/html": [
       "<div>\n",
       "<style>\n",
       "    .dataframe thead tr:only-child th {\n",
       "        text-align: right;\n",
       "    }\n",
       "\n",
       "    .dataframe thead th {\n",
       "        text-align: left;\n",
       "    }\n",
       "\n",
       "    .dataframe tbody tr th {\n",
       "        vertical-align: top;\n",
       "    }\n",
       "</style>\n",
       "<table border=\"1\" class=\"dataframe\">\n",
       "  <thead>\n",
       "    <tr style=\"text-align: right;\">\n",
       "      <th></th>\n",
       "      <th>hidden_size</th>\n",
       "      <th>decay_weights</th>\n",
       "      <th>learning_rates</th>\n",
       "      <th>dropout</th>\n",
       "    </tr>\n",
       "  </thead>\n",
       "  <tbody>\n",
       "    <tr>\n",
       "      <th>0</th>\n",
       "      <td>175.0</td>\n",
       "      <td>0.000117</td>\n",
       "      <td>0.000112</td>\n",
       "      <td>0.281151</td>\n",
       "    </tr>\n",
       "    <tr>\n",
       "      <th>1</th>\n",
       "      <td>95.0</td>\n",
       "      <td>0.000082</td>\n",
       "      <td>0.000278</td>\n",
       "      <td>0.012261</td>\n",
       "    </tr>\n",
       "    <tr>\n",
       "      <th>2</th>\n",
       "      <td>133.0</td>\n",
       "      <td>0.000138</td>\n",
       "      <td>0.000051</td>\n",
       "      <td>0.206749</td>\n",
       "    </tr>\n",
       "    <tr>\n",
       "      <th>3</th>\n",
       "      <td>350.0</td>\n",
       "      <td>0.004531</td>\n",
       "      <td>0.000160</td>\n",
       "      <td>0.071146</td>\n",
       "    </tr>\n",
       "    <tr>\n",
       "      <th>4</th>\n",
       "      <td>51.0</td>\n",
       "      <td>0.002101</td>\n",
       "      <td>0.001951</td>\n",
       "      <td>0.124949</td>\n",
       "    </tr>\n",
       "    <tr>\n",
       "      <th>5</th>\n",
       "      <td>66.0</td>\n",
       "      <td>0.000110</td>\n",
       "      <td>0.000054</td>\n",
       "      <td>0.085282</td>\n",
       "    </tr>\n",
       "    <tr>\n",
       "      <th>6</th>\n",
       "      <td>234.0</td>\n",
       "      <td>0.002145</td>\n",
       "      <td>0.000788</td>\n",
       "      <td>0.072352</td>\n",
       "    </tr>\n",
       "    <tr>\n",
       "      <th>7</th>\n",
       "      <td>335.0</td>\n",
       "      <td>0.000177</td>\n",
       "      <td>0.000806</td>\n",
       "      <td>0.010720</td>\n",
       "    </tr>\n",
       "    <tr>\n",
       "      <th>8</th>\n",
       "      <td>68.0</td>\n",
       "      <td>0.000365</td>\n",
       "      <td>0.000081</td>\n",
       "      <td>0.020428</td>\n",
       "    </tr>\n",
       "    <tr>\n",
       "      <th>9</th>\n",
       "      <td>188.0</td>\n",
       "      <td>0.003793</td>\n",
       "      <td>0.000290</td>\n",
       "      <td>0.063763</td>\n",
       "    </tr>\n",
       "    <tr>\n",
       "      <th>10</th>\n",
       "      <td>389.0</td>\n",
       "      <td>0.002159</td>\n",
       "      <td>0.000059</td>\n",
       "      <td>0.136797</td>\n",
       "    </tr>\n",
       "    <tr>\n",
       "      <th>11</th>\n",
       "      <td>81.0</td>\n",
       "      <td>0.000235</td>\n",
       "      <td>0.003019</td>\n",
       "      <td>0.023459</td>\n",
       "    </tr>\n",
       "  </tbody>\n",
       "</table>\n",
       "</div>"
      ],
      "text/plain": [
       "    hidden_size  decay_weights  learning_rates   dropout\n",
       "0         175.0       0.000117        0.000112  0.281151\n",
       "1          95.0       0.000082        0.000278  0.012261\n",
       "2         133.0       0.000138        0.000051  0.206749\n",
       "3         350.0       0.004531        0.000160  0.071146\n",
       "4          51.0       0.002101        0.001951  0.124949\n",
       "5          66.0       0.000110        0.000054  0.085282\n",
       "6         234.0       0.002145        0.000788  0.072352\n",
       "7         335.0       0.000177        0.000806  0.010720\n",
       "8          68.0       0.000365        0.000081  0.020428\n",
       "9         188.0       0.003793        0.000290  0.063763\n",
       "10        389.0       0.002159        0.000059  0.136797\n",
       "11         81.0       0.000235        0.003019  0.023459"
      ]
     },
     "execution_count": 63,
     "metadata": {},
     "output_type": "execute_result"
    }
   ],
   "source": [
    "tuning_params"
   ]
  },
  {
   "cell_type": "code",
   "execution_count": null,
   "metadata": {
    "collapsed": true
   },
   "outputs": [],
   "source": []
  }
 ],
 "metadata": {
  "kernelspec": {
   "display_name": "Python 3",
   "language": "python",
   "name": "python3"
  },
  "language_info": {
   "codemirror_mode": {
    "name": "ipython",
    "version": 3
   },
   "file_extension": ".py",
   "mimetype": "text/x-python",
   "name": "python",
   "nbconvert_exporter": "python",
   "pygments_lexer": "ipython3",
   "version": "3.6.2"
  }
 },
 "nbformat": 4,
 "nbformat_minor": 2
}

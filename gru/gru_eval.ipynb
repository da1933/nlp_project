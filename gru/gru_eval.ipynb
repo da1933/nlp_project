{
 "cells": [
  {
   "cell_type": "code",
   "execution_count": 47,
   "metadata": {
    "collapsed": true
   },
   "outputs": [],
   "source": [
    "import logging\n",
    "import h5py\n",
    "import torch\n",
    "import torch.nn as nn\n",
    "import torch.nn.functional as F\n",
    "from torch.autograd import Variable\n",
    "import torch.optim as optim\n",
    "import time\n",
    "import numpy as np\n",
    "import sys\n",
    "from models.baseline_snli import encoder\n",
    "from models.baseline_snli import LSTMTagger\n",
    "import argparse\n",
    "from models.snli_data import snli_data\n",
    "from models.snli_data import w2v\n",
    "from torch import autograd\n",
    "\n",
    "import numpy as np\n",
    "import pandas as pd\n",
    "import seaborn as sns\n",
    "import matplotlib.pyplot as plt"
   ]
  },
  {
   "cell_type": "code",
   "execution_count": 6,
   "metadata": {
    "collapsed": true
   },
   "outputs": [],
   "source": [
    "#Load validation set\n",
    "w2v_file = \"/Users/Lisa/Documents/Grad School/DS-GA 1101/data/snli_preprocess/glove.hdf5\"\n",
    "\n",
    "word_vecs = w2v(w2v_file).word_vecs \n",
    "dev_file = \"/Users/Lisa/Documents/Grad School/DS-GA 1101/data/snli_preprocess/val.hdf5\"\n",
    "\n",
    "dev_data = snli_data(dev_file, -1)\n",
    "dev_batches = dev_data.batches"
   ]
  },
  {
   "cell_type": "code",
   "execution_count": 7,
   "metadata": {
    "collapsed": true
   },
   "outputs": [],
   "source": [
    "#Load index to word dictionary\n",
    "word_dict_path = '/Users/Lisa/Documents/Grad School/DS-GA 1101/data/snli_preprocess/word.dict'\n",
    "idx_to_word = {}\n",
    "with open(word_dict_path,'r') as inf:\n",
    "    for line in inf:\n",
    "        line = line.split()\n",
    "        idx_to_word[int(line[1])] = line[0]\n",
    "'''change to 0 indexing'''\n",
    "idx_to_word = {k-1:v for k,v in idx_to_word.items()}"
   ]
  },
  {
   "cell_type": "code",
   "execution_count": 10,
   "metadata": {
    "collapsed": true
   },
   "outputs": [],
   "source": [
    "#Load Model\n",
    "encode_model_fp = '/Users/Lisa/Documents/Grad School/DS-GA 1101/nlp_project/gru/output/test_tanh_epoch-99_dev-acc-0.788_input-encoder.pt'\n",
    "atten_model_fp = '/Users/Lisa/Documents/Grad School/DS-GA 1101/nlp_project/gru/output/test_tanh_epoch-99_dev-acc-0.788_lstm.pt'\n",
    "embedding_size = 300\n",
    "hidden_size = 200\n",
    "train_lbl_size = 3\n",
    "para_init = 0.01\n",
    "\n",
    "#init\n",
    "input_encoder = encoder(word_vecs.size(0), embedding_size, hidden_size, para_init)\n",
    "inter_atten = LSTMTagger(hidden_size, train_lbl_size)\n",
    "\n",
    "#load state (map_location converts model from gpu to cpu)\n",
    "input_encoder.load_state_dict(torch.load(encode_model_fp, map_location=lambda storage, loc: storage))\n",
    "inter_atten.load_state_dict(torch.load(atten_model_fp, map_location=lambda storage, loc: storage))"
   ]
  },
  {
   "cell_type": "code",
   "execution_count": 11,
   "metadata": {
    "collapsed": true
   },
   "outputs": [],
   "source": [
    "'''\n",
    "Evaluate model on the dev set.\n",
    "This may take a few minutes to run.\n",
    "'''\n",
    "\n",
    "input_encoder.eval()\n",
    "inter_atten.eval()\n",
    "correct = 0.\n",
    "total = 0.\n",
    "predicted_lbls = []\n",
    "alphas= []\n",
    "\n",
    "for i in range(len(dev_batches)):\n",
    "    dev_src_batch, dev_tgt_batch, dev_lbl_batch = dev_batches[i]\n",
    "\n",
    "    dev_src_batch = Variable(dev_src_batch)\n",
    "    dev_tgt_batch = Variable(dev_tgt_batch)\n",
    "    dev_lbl_batch = Variable(dev_lbl_batch)\n",
    "\n",
    "    dev_src_linear, dev_tgt_linear=input_encoder(\n",
    "        dev_src_batch, dev_tgt_batch)\n",
    "    log_prob, alpha=inter_atten(dev_src_linear, dev_tgt_linear, return_attn=True)\n",
    "\n",
    "    _, predict=log_prob.data.max(dim=1)\n",
    "    total += dev_lbl_batch.data.size()[0]\n",
    "    correct += torch.sum(predict == dev_lbl_batch.data)\n",
    "    predicted_lbls.append(predict)\n",
    "    alphas.append(alpha)"
   ]
  },
  {
   "cell_type": "code",
   "execution_count": 20,
   "metadata": {},
   "outputs": [
    {
     "data": {
      "text/plain": [
       "torch.Size([8, 13])"
      ]
     },
     "execution_count": 20,
     "metadata": {},
     "output_type": "execute_result"
    }
   ],
   "source": [
    "'''\n",
    "Each alpha is batch_size x len(premise)\n",
    "'''\n",
    "alphas[200].size()"
   ]
  },
  {
   "cell_type": "code",
   "execution_count": 21,
   "metadata": {},
   "outputs": [
    {
     "data": {
      "text/plain": [
       "torch.Size([8, 13])"
      ]
     },
     "execution_count": 21,
     "metadata": {},
     "output_type": "execute_result"
    }
   ],
   "source": [
    "#this is the corresponding premise batch\n",
    "dev_batches[200][0].size()"
   ]
  },
  {
   "cell_type": "code",
   "execution_count": 16,
   "metadata": {},
   "outputs": [
    {
     "data": {
      "text/plain": [
       "torch.Size([8, 4])"
      ]
     },
     "execution_count": 16,
     "metadata": {},
     "output_type": "execute_result"
    }
   ],
   "source": [
    "#this is the corresponding hypothesis batch\n",
    "dev_batches[200][1].size()"
   ]
  },
  {
   "cell_type": "code",
   "execution_count": 24,
   "metadata": {},
   "outputs": [
    {
     "data": {
      "text/plain": [
       "array([  1.44728366e-03,   4.72727261e-04,   9.67186093e-02,\n",
       "         5.20615559e-03,   1.33558020e-01,   3.13928397e-03,\n",
       "         4.81196702e-01,   1.03838965e-01,   1.49426027e-03,\n",
       "         1.23902932e-01,   1.26264906e-02,   2.42413930e-03,\n",
       "         1.28338381e-03,   1.88678410e-02,   1.04457242e-02,\n",
       "         3.37747112e-03], dtype=float32)"
      ]
     },
     "execution_count": 24,
     "metadata": {},
     "output_type": "execute_result"
    }
   ],
   "source": [
    "alphas[batch_num][item_in_batch].data.numpy()"
   ]
  },
  {
   "cell_type": "code",
   "execution_count": 49,
   "metadata": {},
   "outputs": [
    {
     "data": {
      "image/png": "[encoded data removed]",
      "text/plain": [
       "<matplotlib.figure.Figure at 0x1a87788a10>"
      ]
     },
     "metadata": {},
     "output_type": "display_data"
    }
   ],
   "source": [
    "batch_num = 100\n",
    "item_in_batch = 10\n",
    "hypothesis_words = []\n",
    "premise_words = []\n",
    "for i in dev_batches[batch_num][0][item_in_batch]:\n",
    "    premise_words.append(idx_to_word[i])\n",
    "for i in dev_batches[batch_num][1][item_in_batch]:\n",
    "    hypothesis_words.append(idx_to_word[i])\n",
    "df = pd.DataFrame(alphas[batch_num][item_in_batch].data.numpy(), index=premise_words).transpose()\n",
    "fig, ax = plt.subplots(figsize=(10,1))     \n",
    "sns.heatmap(df)\n",
    "ax.get_yaxis().set_visible(False)\n",
    "plt.title('hypothesis: %s'%(' '.join(word for word in hypothesis_words)))\n",
    "plt.show()"
   ]
  },
  {
   "cell_type": "code",
   "execution_count": null,
   "metadata": {
    "collapsed": true
   },
   "outputs": [],
   "source": []
  }
 ],
 "metadata": {
  "kernelspec": {
   "display_name": "Python 2",
   "language": "python",
   "name": "python2"
  },
  "language_info": {
   "codemirror_mode": {
    "name": "ipython",
    "version": 2
   },
   "file_extension": ".py",
   "mimetype": "text/x-python",
   "name": "python",
   "nbconvert_exporter": "python",
   "pygments_lexer": "ipython2",
   "version": "2.7.14"
  }
 },
 "nbformat": 4,
 "nbformat_minor": 2
}

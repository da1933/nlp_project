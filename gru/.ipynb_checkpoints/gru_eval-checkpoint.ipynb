{
 "cells": [
  {
   "cell_type": "code",
   "execution_count": 1,
   "metadata": {
    "collapsed": true
   },
   "outputs": [],
   "source": [
    "import logging\n",
    "import json\n",
    "import random\n",
    "import h5py\n",
    "import torch\n",
    "import torch.nn as nn\n",
    "import torch.nn.functional as F\n",
    "from torch.autograd import Variable\n",
    "import torch.optim as optim\n",
    "import time\n",
    "import numpy as np\n",
    "import sys\n",
    "from models.baseline_snli import encoder\n",
    "from models.baseline_snli import LSTMTagger\n",
    "import argparse\n",
    "from models.snli_data import snli_data\n",
    "from models.snli_data import w2v\n",
    "from torch import autograd\n",
    "\n",
    "import numpy as np\n",
    "import pandas as pd\n",
    "import seaborn as sns\n",
    "import matplotlib.pyplot as plt\n",
    "\n",
    "%matplotlib inline"
   ]
  },
  {
   "cell_type": "code",
   "execution_count": 2,
   "metadata": {
    "collapsed": true
   },
   "outputs": [],
   "source": [
    "def get_errors(dev_lbl_batch,pred):\n",
    "    error_list=[]\n",
    "    for i,v in enumerate(dev_lbl_batch.data.numpy()):\n",
    "        if v != pred[i]:\n",
    "            error_list.append((i,'Actual: '+labels_mapping[v]+', Predicted: '+labels_mapping[pred[i]]))\n",
    "        else:\n",
    "            error_list.append((i,'Correct'))\n",
    "    return error_list\n",
    "\n",
    "\n",
    "def update_error_analysis_dict(actual_labels, pred_labels):\n",
    "    for i in range (len(actual_labels)):\n",
    "        error_analysis[labels_mapping[actual_labels[i]]][labels_mapping[pred_labels[i]]] += 1\n",
    "\n",
    "def print_sentence(batch,idx,return_result=True):\n",
    "    premise = []\n",
    "    hypothesis = []\n",
    "    s = dev_batches[batch]\n",
    "    for pword in s[0][idx]:\n",
    "        premise.append(idx_to_word[pword])\n",
    "    for hword in s[1][idx]:\n",
    "        hypothesis.append(idx_to_word[hword])\n",
    "    if return_result is True:\n",
    "        return 'Premise: '+' '.join(premise)+'\\nHypothesis: '+' '.join(hypothesis)+'\\n'+outcomes[batch][1][idx][1]\n",
    "    else:\n",
    "        return 'Premise: '+' '.join(premise)+'\\nHypothesis: '+' '.join(hypothesis)\n",
    "\n",
    "def heatmap(batch,idx):\n",
    "    batch_num = batch\n",
    "    item_in_batch = idx\n",
    "    hypothesis_words = []\n",
    "    premise_words = []\n",
    "    for i in dev_batches[batch_num][0][item_in_batch]:\n",
    "        premise_words.append(idx_to_word[i])\n",
    "    for i in dev_batches[batch_num][1][item_in_batch]:\n",
    "        hypothesis_words.append(idx_to_word[i])\n",
    "    df = pd.DataFrame(alphas[batch_num][item_in_batch].data.numpy(), index=premise_words).transpose()\n",
    "    fig, ax = plt.subplots(figsize=(10,1))     \n",
    "    sns.heatmap(df, cmap=\"YlGnBu\")\n",
    "    ax.get_yaxis().set_visible(False)\n",
    "    plt.title('hypothesis: %s'%(' '.join(word for word in hypothesis_words)))\n",
    "    print(print_sentence(batch_num,item_in_batch))\n",
    "    plt.show()\n",
    "\n",
    "'''\n",
    "Error Analysis\n",
    "'''\n",
    "from collections import defaultdict\n",
    "\n",
    "labels_mapping = {1:'neutral', 0:'entailment', 2:'contradiction'}\n",
    "error_analysis = defaultdict(dict)\n",
    "labels = ['neutral', 'entailment', 'contradiction']\n",
    "\n",
    "for i in labels_mapping.values():\n",
    "    for j in labels:\n",
    "        error_analysis[i][j] = 0"
   ]
  },
  {
   "cell_type": "markdown",
   "metadata": {},
   "source": [
    "# Load files"
   ]
  },
  {
   "cell_type": "code",
   "execution_count": null,
   "metadata": {
    "collapsed": true
   },
   "outputs": [],
   "source": [
    "mypath='../../data/'"
   ]
  },
  {
   "cell_type": "code",
   "execution_count": 3,
   "metadata": {
    "collapsed": true
   },
   "outputs": [],
   "source": [
    "#Load validation set\n",
    "w2v_file = mypath+\"snli_preprocess/glove.hdf5\"\n",
    "\n",
    "word_vecs = w2v(w2v_file).word_vecs \n",
    "dev_file = mypath+\"snli_preprocess/val.hdf5\"\n",
    "\n",
    "dev_data = snli_data(dev_file, -1)\n",
    "dev_batches = dev_data.batches"
   ]
  },
  {
   "cell_type": "code",
   "execution_count": 4,
   "metadata": {
    "collapsed": true
   },
   "outputs": [],
   "source": [
    "#Load index to word dictionary\n",
    "word_dict_path = mypath+'snli_preprocess/word.dict'\n",
    "idx_to_word = {}\n",
    "with open(word_dict_path,'r') as inf:\n",
    "    for line in inf:\n",
    "        line = line.split()\n",
    "        idx_to_word[int(line[1])] = line[0]\n",
    "'''change to 0 indexing'''\n",
    "idx_to_word = {k-1:v for k,v in idx_to_word.items()}"
   ]
  },
  {
   "cell_type": "code",
   "execution_count": 5,
   "metadata": {
    "collapsed": false
   },
   "outputs": [],
   "source": [
    "#Load Model\n",
    "encode_model_fp = mypath+'snli_preprocess/gru_encoder785.pt'\n",
    "atten_model_fp = mypath+'snli_preprocess/gru_lstm785.pt'\n",
    "embedding_size = 300\n",
    "hidden_size = 150\n",
    "train_lbl_size = 3\n",
    "para_init = 0.01\n",
    "\n",
    "#init\n",
    "input_encoder = encoder(word_vecs.size(0), embedding_size, hidden_size, para_init)\n",
    "inter_atten = LSTMTagger(hidden_size, train_lbl_size)\n",
    "\n",
    "#load state (map_location converts model from gpu to cpu)\n",
    "input_encoder.load_state_dict(torch.load(encode_model_fp, map_location=lambda storage, loc: storage))\n",
    "inter_atten.load_state_dict(torch.load(atten_model_fp, map_location=lambda storage, loc: storage))"
   ]
  },
  {
   "cell_type": "markdown",
   "metadata": {},
   "source": [
    "# Evaluate Dev Set"
   ]
  },
  {
   "cell_type": "code",
   "execution_count": 6,
   "metadata": {
    "collapsed": false
   },
   "outputs": [],
   "source": [
    "'''\n",
    "Evaluate model on the dev set.\n",
    "This may take a few minutes to run.\n",
    "'''\n",
    "\n",
    "input_encoder.eval()\n",
    "inter_atten.eval()\n",
    "correct = 0.\n",
    "total = 0.\n",
    "predicted_lbls = []\n",
    "alphas = []\n",
    "outcomes = []\n",
    "\n",
    "for i in range(len(dev_batches)):\n",
    "    dev_src_batch, dev_tgt_batch, dev_lbl_batch = dev_batches[i]\n",
    "    dev_src_batch = Variable(dev_src_batch)\n",
    "    dev_tgt_batch = Variable(dev_tgt_batch)\n",
    "    dev_lbl_batch = Variable(dev_lbl_batch)\n",
    "\n",
    "    dev_src_linear, dev_tgt_linear=input_encoder(\n",
    "        dev_src_batch, dev_tgt_batch)\n",
    "    log_prob, alpha=inter_atten(dev_src_linear, dev_tgt_linear, return_attn=True)\n",
    "\n",
    "    _, predict=log_prob.data.max(dim=1)\n",
    "    total += dev_lbl_batch.data.size()[0]\n",
    "    correct += torch.sum(predict == dev_lbl_batch.data)\n",
    "    update_error_analysis_dict(dev_lbl_batch.data, predict)\n",
    "    predicted_lbls.append(predict)\n",
    "    alphas.append(alpha)\n",
    "    results = get_errors(dev_lbl_batch,predict)\n",
    "    outcomes.append((i,results))"
   ]
  },
  {
   "cell_type": "markdown",
   "metadata": {},
   "source": [
    "# Error Analysis"
   ]
  },
  {
   "cell_type": "code",
   "execution_count": 7,
   "metadata": {
    "collapsed": false
   },
   "outputs": [
    {
     "data": {
      "text/html": [
       "<div>\n",
       "<table border=\"1\" class=\"dataframe\">\n",
       "  <thead>\n",
       "    <tr style=\"text-align: right;\">\n",
       "      <th></th>\n",
       "      <th>p_contradiction</th>\n",
       "      <th>p_entailment</th>\n",
       "      <th>p_neutral</th>\n",
       "    </tr>\n",
       "  </thead>\n",
       "  <tbody>\n",
       "    <tr>\n",
       "      <th>contradiction</th>\n",
       "      <td>2564</td>\n",
       "      <td>401</td>\n",
       "      <td>185</td>\n",
       "    </tr>\n",
       "    <tr>\n",
       "      <th>entailment</th>\n",
       "      <td>456</td>\n",
       "      <td>2391</td>\n",
       "      <td>373</td>\n",
       "    </tr>\n",
       "    <tr>\n",
       "      <th>neutral</th>\n",
       "      <td>258</td>\n",
       "      <td>442</td>\n",
       "      <td>2771</td>\n",
       "    </tr>\n",
       "  </tbody>\n",
       "</table>\n",
       "</div>"
      ],
      "text/plain": [
       "               p_contradiction  p_entailment  p_neutral\n",
       "contradiction             2564           401        185\n",
       "entailment                 456          2391        373\n",
       "neutral                    258           442       2771"
      ]
     },
     "execution_count": 7,
     "metadata": {},
     "output_type": "execute_result"
    }
   ],
   "source": [
    "error_table = pd.DataFrame(error_analysis)\n",
    "error_table.fillna(0, inplace=True)\n",
    "error_table.columns = ['p_' + s for s in error_table.columns] \n",
    "error_table"
   ]
  },
  {
   "cell_type": "code",
   "execution_count": 9,
   "metadata": {
    "collapsed": false,
    "scrolled": false
   },
   "outputs": [],
   "source": [
    "# Identifies where the first word is actually present.\n",
    "# NO Premises had first words within vocab; only 812 hypotheses did.\n",
    "\n",
    "first_word_present=[]\n",
    "for batch in range(len(dev_batches)-1):\n",
    "    for i in range(len(dev_batches[batch][0])):\n",
    "        sentence=print_sentence(batch,i).split('<s>')\n",
    "        if sentence[2][1]!='<':\n",
    "            first_word_present.append(print_sentence(batch,i))"
   ]
  },
  {
   "cell_type": "code",
   "execution_count": 10,
   "metadata": {
    "collapsed": false
   },
   "outputs": [],
   "source": [
    "'''Identify Errors'''\n",
    "names = ['Correct',\n",
    "         'Actual: entailment, Predicted: contradiction',\n",
    "         'Actual: entailment, Predicted: neutral',\n",
    "         'Actual: neutral, Predicted: entailment',\n",
    "         'Actual: neutral, Predicted: contradiction',\n",
    "         'Actual: contradiction, Predicted: entailment',\n",
    "         'Actual: contradiction, Predicted: neutral']\n",
    "\n",
    "error_list = dict.fromkeys(names[1:])\n",
    "\n",
    "for i in range(len(outcomes[:-1])):\n",
    "    for j in range(len(outcomes[i][1])):\n",
    "        if outcomes[i][1][j][1] in names[1:]:\n",
    "            try:\n",
    "                error_list[outcomes[i][1][j][1]].append((i,j))\n",
    "            except:\n",
    "                error_list[outcomes[i][1][j][1]]=[(i,j)]"
   ]
  },
  {
   "cell_type": "code",
   "execution_count": 21,
   "metadata": {
    "collapsed": false,
    "scrolled": false
   },
   "outputs": [
    {
     "name": "stdout",
     "output_type": "stream",
     "text": [
      "Actual: entailment, Predicted: contradiction [(3, 1), (22, 11), (23, 0), (31, 13), (34, 4)]\n",
      "Actual: neutral, Predicted: entailment [(4, 0), (12, 4), (19, 0), (20, 8), (20, 9)]\n",
      "Actual: entailment, Predicted: neutral [(11, 2), (13, 2), (21, 7), (21, 8), (22, 9)]\n",
      "Actual: neutral, Predicted: contradiction [(14, 1), (20, 4), (33, 17), (36, 9), (46, 21)]\n",
      "Actual: contradiction, Predicted: entailment [(21, 3), (22, 7), (31, 4), (33, 25), (33, 31)]\n",
      "Actual: contradiction, Predicted: neutral [(30, 9), (31, 1), (31, 10), (31, 12), (31, 21)]\n"
     ]
    }
   ],
   "source": [
    "# Error samples\n",
    "for i in names[1:]:\n",
    "    print(i,error_list[i][:5])"
   ]
  },
  {
   "cell_type": "code",
   "execution_count": 23,
   "metadata": {
    "collapsed": false
   },
   "outputs": [
    {
     "name": "stdout",
     "output_type": "stream",
     "text": [
      "Premise: <s> <oov65> guitarist performs on stage .\n",
      "Hypothesis: <s> <oov30> drummer performs .\n",
      "Actual: contradiction, Predicted: neutral\n"
     ]
    },
    {
     "data": {
      "image/png": "[encoded data removed]",
      "text/plain": [
       "<matplotlib.figure.Figure at 0x11d380588>"
      ]
     },
     "metadata": {},
     "output_type": "display_data"
    }
   ],
   "source": [
    "heatmap(30,9)"
   ]
  }
 ],
 "metadata": {
  "anaconda-cloud": {},
  "kernelspec": {
   "display_name": "Python [Root]",
   "language": "python",
   "name": "Python [Root]"
  },
  "language_info": {
   "codemirror_mode": {
    "name": "ipython",
    "version": 3
   },
   "file_extension": ".py",
   "mimetype": "text/x-python",
   "name": "python",
   "nbconvert_exporter": "python",
   "pygments_lexer": "ipython3",
   "version": "3.5.2"
  }
 },
 "nbformat": 4,
 "nbformat_minor": 2
}

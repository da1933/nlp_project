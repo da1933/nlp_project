{
 "cells": [
  {
   "cell_type": "code",
   "execution_count": 2,
   "metadata": {},
   "outputs": [
    {
     "name": "stderr",
     "output_type": "stream",
     "text": [
      "No handlers could be found for logger \"mylog\"\n"
     ]
    }
   ],
   "source": [
    "import logging\n",
    "import json\n",
    "import random\n",
    "import h5py\n",
    "import torch\n",
    "import torch.nn as nn\n",
    "import torch.nn.functional as F\n",
    "from torch.autograd import Variable\n",
    "import torch.optim as optim\n",
    "import time\n",
    "import numpy as np\n",
    "import sys\n",
    "from models.baseline_snli import encoder\n",
    "from models.baseline_snli import LSTMTagger\n",
    "import argparse\n",
    "from models.snli_data import snli_data\n",
    "from models.snli_data import w2v\n",
    "from torch import autograd\n",
    "\n",
    "import numpy as np\n",
    "import pandas as pd\n",
    "import seaborn as sns\n",
    "import matplotlib.pyplot as plt\n",
    "\n",
    "%matplotlib inline"
   ]
  },
  {
   "cell_type": "code",
   "execution_count": 3,
   "metadata": {
    "collapsed": true
   },
   "outputs": [],
   "source": [
    "def get_errors(dev_lbl_batch,pred):\n",
    "    error_list=[]\n",
    "    for i,v in enumerate(dev_lbl_batch.data.numpy()):\n",
    "        if v != pred[i]:\n",
    "            error_list.append((i,'Actual: '+labels_mapping[v]+', Predicted: '+labels_mapping[pred[i]]))\n",
    "        else:\n",
    "            error_list.append((i,'Correct'))\n",
    "    return error_list\n",
    "\n",
    "\n",
    "def update_error_analysis_dict(actual_labels, pred_labels):\n",
    "    for i in range (len(actual_labels)):\n",
    "        error_analysis[labels_mapping[actual_labels[i]]][labels_mapping[pred_labels[i]]] += 1\n",
    "\n",
    "def print_sentence(batch,idx,return_result=True):\n",
    "    premise = []\n",
    "    hypothesis = []\n",
    "    s = dev_batches[batch]\n",
    "    for pword in s[0][idx]:\n",
    "        premise.append(idx_to_word[pword])\n",
    "    for hword in s[1][idx]:\n",
    "        hypothesis.append(idx_to_word[hword])\n",
    "    if return_result is True:\n",
    "        return 'Premise: '+' '.join(premise)+'\\nHypothesis: '+' '.join(hypothesis)+'\\n'+outcomes[batch][1][idx][1]\n",
    "    else:\n",
    "        return 'Premise: '+' '.join(premise)+'\\nHypothesis: '+' '.join(hypothesis)\n",
    "\n",
    "def heatmap(batch,idx):\n",
    "    batch_num = batch\n",
    "    item_in_batch = idx\n",
    "    hypothesis_words = []\n",
    "    premise_words = []\n",
    "    for i in dev_batches[batch_num][0][item_in_batch]:\n",
    "        premise_words.append(idx_to_word[i])\n",
    "    for i in dev_batches[batch_num][1][item_in_batch]:\n",
    "        hypothesis_words.append(idx_to_word[i])\n",
    "    df = pd.DataFrame(alphas[batch_num][item_in_batch].data.numpy(), index=premise_words).transpose()\n",
    "    fig, ax = plt.subplots(figsize=(10,1))     \n",
    "    sns.heatmap(df, cmap=\"YlGnBu\")\n",
    "    ax.get_yaxis().set_visible(False)\n",
    "    plt.title('hypothesis: %s'%(' '.join(word for word in hypothesis_words)))\n",
    "    print(print_sentence(batch_num,item_in_batch))\n",
    "    plt.show()\n",
    "\n",
    "'''\n",
    "Error Analysis\n",
    "'''\n",
    "from collections import defaultdict\n",
    "\n",
    "labels_mapping = {1:'neutral', 0:'entailment', 2:'contradiction'}\n",
    "error_analysis = defaultdict(dict)\n",
    "labels = ['neutral', 'entailment', 'contradiction']\n",
    "\n",
    "for i in labels_mapping.values():\n",
    "    for j in labels:\n",
    "        error_analysis[i][j] = 0"
   ]
  },
  {
   "cell_type": "markdown",
   "metadata": {},
   "source": [
    "# Load Files"
   ]
  },
  {
   "cell_type": "code",
   "execution_count": 4,
   "metadata": {
    "collapsed": true
   },
   "outputs": [],
   "source": [
    "mypath='/Users/Lisa/Documents/Grad School/DS-GA 1101/data/'"
   ]
  },
  {
   "cell_type": "code",
   "execution_count": 5,
   "metadata": {},
   "outputs": [],
   "source": [
    "#Load validation set\n",
    "w2v_file = mypath+\"snli_preprocess/glove.hdf5\"\n",
    "\n",
    "word_vecs = w2v(w2v_file).word_vecs \n",
    "dev_file = mypath+\"snli_preprocess/val.hdf5\"\n",
    "\n",
    "dev_data = snli_data(dev_file, -1)\n",
    "dev_batches = dev_data.batches"
   ]
  },
  {
   "cell_type": "code",
   "execution_count": 6,
   "metadata": {
    "collapsed": true
   },
   "outputs": [],
   "source": [
    "#Load index to word dictionary\n",
    "word_dict_path = mypath+'snli_preprocess/word.dict'\n",
    "idx_to_word = {}\n",
    "with open(word_dict_path,'r') as inf:\n",
    "    for line in inf:\n",
    "        line = line.split()\n",
    "        idx_to_word[int(line[1])] = line[0]\n",
    "'''change to 0 indexing'''\n",
    "idx_to_word = {k-1:v for k,v in idx_to_word.items()}"
   ]
  },
  {
   "cell_type": "code",
   "execution_count": 7,
   "metadata": {},
   "outputs": [],
   "source": [
    "#Load Model\n",
    "encode_model_fp = '/Users/Lisa/Documents/Grad School/DS-GA 1101/nlp_project/wbw/output/01_epoch-9_dev-acc-0.715_input-encoder.pt'\n",
    "atten_model_fp = '/Users/Lisa/Documents/Grad School/DS-GA 1101/nlp_project/wbw/output/01_epoch-9_dev-acc-0.715_lstm.pt'\n",
    "embedding_size = 300\n",
    "hidden_size = 150\n",
    "train_lbl_size = 3\n",
    "para_init = 0.01\n",
    "\n",
    "#init\n",
    "input_encoder = encoder(word_vecs.size(0), embedding_size, hidden_size, para_init)\n",
    "inter_atten = LSTMTagger(hidden_size, train_lbl_size)\n",
    "\n",
    "#load state (map_location converts model from gpu to cpu)\n",
    "input_encoder.load_state_dict(torch.load(encode_model_fp, map_location=lambda storage, loc: storage))\n",
    "inter_atten.load_state_dict(torch.load(atten_model_fp, map_location=lambda storage, loc: storage))"
   ]
  },
  {
   "cell_type": "markdown",
   "metadata": {},
   "source": [
    "# Eval Dev Set"
   ]
  },
  {
   "cell_type": "code",
   "execution_count": 8,
   "metadata": {
    "collapsed": true
   },
   "outputs": [],
   "source": [
    "'''\n",
    "Evaluate model on the dev set.\n",
    "This may take a few minutes to run.\n",
    "'''\n",
    "\n",
    "input_encoder.eval()\n",
    "inter_atten.eval()\n",
    "correct = 0.\n",
    "total = 0.\n",
    "predicted_lbls = []\n",
    "alphas = []\n",
    "outcomes = []\n",
    "\n",
    "for i in range(len(dev_batches)):\n",
    "    dev_src_batch, dev_tgt_batch, dev_lbl_batch = dev_batches[i]\n",
    "    dev_src_batch = Variable(dev_src_batch)\n",
    "    dev_tgt_batch = Variable(dev_tgt_batch)\n",
    "    dev_lbl_batch = Variable(dev_lbl_batch)\n",
    "\n",
    "    dev_src_linear, dev_tgt_linear=input_encoder(\n",
    "        dev_src_batch, dev_tgt_batch)\n",
    "    log_prob, alpha=inter_atten(dev_src_linear, dev_tgt_linear, return_attn=True)\n",
    "\n",
    "    _, predict=log_prob.data.max(dim=1)\n",
    "    total += dev_lbl_batch.data.size()[0]\n",
    "    correct += torch.sum(predict == dev_lbl_batch.data)\n",
    "    update_error_analysis_dict(dev_lbl_batch.data, predict)\n",
    "    predicted_lbls.append(predict)\n",
    "    alphas.append(alpha)\n",
    "    results = get_errors(dev_lbl_batch,predict)\n",
    "    outcomes.append((i,results))"
   ]
  },
  {
   "cell_type": "code",
   "execution_count": 59,
   "metadata": {},
   "outputs": [
    {
     "data": {
      "image/png": "[encoded data removed]",
      "text/plain": [
       "<matplotlib.figure.Figure at 0x11e727b50>"
      ]
     },
     "metadata": {},
     "output_type": "display_data"
    }
   ],
   "source": [
    "\n",
    "import numpy as np\n",
    "import pandas as pd\n",
    "import seaborn as sns\n",
    "batch_num = 100\n",
    "item_in_batch = 0\n",
    "hypothesis_words = []\n",
    "premise_words = []\n",
    "for i in dev_batches[batch_num][0][item_in_batch]:\n",
    "    premise_words.append(idx_to_word[i])\n",
    "for i in dev_batches[batch_num][1][item_in_batch]:\n",
    "    hypothesis_words.append(idx_to_word[i])\n",
    "df = pd.DataFrame(alphas[batch_num][:,item_in_batch].data.numpy().T, columns=hypothesis_words, index=premise_words)\n",
    "sns.heatmap(df, cmap=\"YlGnBu\", annot=True)\n",
    "plt.show()"
   ]
  },
  {
   "cell_type": "code",
   "execution_count": 26,
   "metadata": {},
   "outputs": [
    {
     "data": {
      "text/plain": [
       "'Premise: <s> the strangely dressed guys , one wearing an orange wig , sunglasses with peace signs , and a karate costume with an <oov2> belt , another wearing a curly blue wig , heart shaped sunglasses , and a karate outfit painted with leaves , and the third wearing pink underwear , a black afro , and giant sunglasses\\nHypothesis: <s> there are people wearing outfits\\nCorrect'"
      ]
     },
     "execution_count": 26,
     "metadata": {},
     "output_type": "execute_result"
    }
   ],
   "source": [
    "print_sentence(748,0,return_result=True)"
   ]
  },
  {
   "cell_type": "code",
   "execution_count": 29,
   "metadata": {},
   "outputs": [
    {
     "data": {
      "text/plain": [
       "\n",
       "\n",
       "Columns 0 to 10 \n",
       "     2   9172  16486  15673  11298   4330    640   8504   7936  14037  17467\n",
       "\n",
       "Columns 11 to 21 \n",
       "  4330  12793    854   6564   1004   4330  27771  24204  23876   3134    854\n",
       "\n",
       "Columns 22 to 32 \n",
       "  7936  20304   1166   4330   1913   8504  24204  23810   5255  17467   4330\n",
       "\n",
       "Columns 33 to 43 \n",
       " 16622  20959  12793   4330  27771  24204  23876  10551  14190    854   5278\n",
       "\n",
       "Columns 44 to 54 \n",
       "  4330  27771   9172   3555   8504  10343  11369   4330  24204  11448  10137\n",
       "\n",
       "Columns 55 to 58 \n",
       "  4330  27771  26132  12793\n",
       "[torch.LongTensor of size 1x59]"
      ]
     },
     "execution_count": 29,
     "metadata": {},
     "output_type": "execute_result"
    }
   ],
   "source": [
    "dev_batches[748][0]"
   ]
  },
  {
   "cell_type": "code",
   "execution_count": 56,
   "metadata": {},
   "outputs": [
    {
     "data": {
      "text/plain": [
       "(11, 15)"
      ]
     },
     "execution_count": 56,
     "metadata": {},
     "output_type": "execute_result"
    }
   ],
   "source": [
    "alphas[300][:,0].data.numpy().shape"
   ]
  },
  {
   "cell_type": "code",
   "execution_count": 53,
   "metadata": {},
   "outputs": [
    {
     "data": {
      "text/plain": [
       "\n",
       "     2\n",
       " 18620\n",
       " 15653\n",
       " 22908\n",
       " 24204\n",
       " 10396\n",
       " 25650\n",
       "   854\n",
       "  9172\n",
       " 18051\n",
       " 11045\n",
       "  8961\n",
       " 19496\n",
       "  9172\n",
       " 28602\n",
       "[torch.LongTensor of size 15]"
      ]
     },
     "execution_count": 53,
     "metadata": {},
     "output_type": "execute_result"
    }
   ],
   "source": [
    "dev_batches[300][0][0]"
   ]
  },
  {
   "cell_type": "code",
   "execution_count": 54,
   "metadata": {},
   "outputs": [
    {
     "data": {
      "text/plain": [
       "\n",
       "     2\n",
       "  1922\n",
       " 27999\n",
       " 20623\n",
       " 22908\n",
       " 24204\n",
       " 25650\n",
       " 22908\n",
       " 24204\n",
       "  1128\n",
       "  3844\n",
       "[torch.LongTensor of size 11]"
      ]
     },
     "execution_count": 54,
     "metadata": {},
     "output_type": "execute_result"
    }
   ],
   "source": [
    "dev_batches[300][1][0]"
   ]
  },
  {
   "cell_type": "code",
   "execution_count": null,
   "metadata": {
    "collapsed": true
   },
   "outputs": [],
   "source": []
  }
 ],
 "metadata": {
  "kernelspec": {
   "display_name": "Python 2",
   "language": "python",
   "name": "python2"
  }
 },
 "nbformat": 4,
 "nbformat_minor": 2
}
